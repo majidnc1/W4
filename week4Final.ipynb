{
 "cells": [
  {
   "cell_type": "markdown",
   "id": "1b15cb75-52f3-407a-8a18-a4e4f4121cd1",
   "metadata": {},
   "source": [
    "# Notebook Title - Final assignment"
   ]
  },
  {
   "cell_type": "markdown",
   "id": "d1cfd9c1-c65c-443d-a18a-e61e15273e7a",
   "metadata": {},
   "source": [
    "**Introduction**"
   ]
  },
  {
   "cell_type": "markdown",
   "id": "3a2594d9-a814-48a5-b0f3-3aa793823d8d",
   "metadata": {},
   "source": [
    "### Data Science Languages\n",
    "\n",
    "- Python\n",
    "- R\n",
    "- SQL\n",
    "- MATLAB\n",
    "- Julia\n",
    "- SAS\n",
    "- Scala\n",
    "- Java\n",
    "- C/C++\n",
    "- JavaScript\n",
    "\n",
    "These languages are commonly used in data science for tasks such as data manipulation, visualization, modeling, and analysis. Each language has its own strengths and weaknesses, and choosing the right one for a given task often depends on factors such as the size and complexity of the data, the available computing resources, and the preferences and expertise of the data scientist or analyst."
   ]
  },
  {
   "cell_type": "markdown",
   "id": "d776727c-dbce-4833-b641-b39fbb7b683a",
   "metadata": {},
   "source": [
    "### Data Science Libraries\n",
    "\n",
    "- Pandas: a Python library for data manipulation and analysis.\n",
    "- NumPy: a Python library for numerical computing, including arrays, linear algebra, and random number generation.\n",
    "- Matplotlib: a Python library for data visualization.\n",
    "- Scikit-learn: a Python library for machine learning, including algorithms for classification, regression, clustering, and dimensionality reduction.\n",
    "- TensorFlow: an open-source machine learning library developed by Google, for building and training neural networks.\n",
    "- Keras: a high-level Python library built on top of TensorFlow, for building and training deep learning models.\n",
    "- PyTorch: an open-source machine learning library developed by Facebook, for building and training neural networks.\n",
    "- ggplot2: an R library for data visualization, based on the Grammar of Graphics.\n",
    "- dplyr: an R library for data manipulation and analysis, with a focus on tidy data principles.\n",
    "- caret: an R library for machine learning, with a focus on model training and evaluation.\n",
    "\n",
    "These libraries provide powerful tools and functions for data scientists and analysts to perform various data-related tasks, from data preprocessing and cleaning to modeling and visualization.\n"
   ]
  },
  {
   "cell_type": "markdown",
   "id": "0026383e-a38d-472e-90b4-587fdd275590",
   "metadata": {},
   "source": [
    "### Data Science Tools\n",
    "\n",
    "| Tool          | Description                                   |\n",
    "|---------------|-----------------------------------------------|\n",
    "| Jupyter       | A web-based interactive computing environment |\n",
    "| Anaconda      | A Python distribution for scientific computing |\n",
    "| Tableau       | A data visualization and business intelligence tool |\n",
    "| Power BI      | A business analytics service by Microsoft     |\n",
    "| Apache Hadoop | An open-source framework for distributed computing and storage |\n",
    "| Spark         | An open-source distributed computing system for big data processing |\n",
    "| MySQL         | An open-source relational database management system |\n",
    "| PostgreSQL    | An open-source object-relational database system |\n",
    "| MongoDB       | A NoSQL document-oriented database system     |\n",
    "\n",
    "These are just a few examples of the many data science tools available to data scientists and analysts. Each tool has its own strengths and weaknesses, and the choice of tool often depends on factors such as the nature of the data, the size of the project, and the specific needs of the data scientist or analyst.\n"
   ]
  },
  {
   "cell_type": "markdown",
   "id": "a4e9f5ad-aade-4fb1-8ea9-1b275eca3011",
   "metadata": {},
   "source": [
    "### Arithmetic Expressions\n",
    "\n",
    "Jupyter notebooks support various arithmetic expressions that can be used to perform mathematical operations. These expressions can be entered in code cells and executed to produce the desired results. Here are some examples:\n",
    "\n",
    "```python\n",
    "# Addition\n",
    "2 + 3\n",
    "\n",
    "# Subtraction\n",
    "5 - 2\n",
    "\n",
    "# Multiplication\n",
    "3 * 4\n",
    "\n",
    "# Division\n",
    "6 / 2\n",
    "\n",
    "# Exponentiation\n",
    "2 ** 3\n",
    "\n",
    "# Modulo (remainder)\n",
    "7 % 3\n"
   ]
  },
  {
   "cell_type": "code",
   "execution_count": 6,
   "id": "4facb5ef-b6c4-4486-be49-2647bd76122e",
   "metadata": {},
   "outputs": [
    {
     "name": "stdout",
     "output_type": "stream",
     "text": [
      "sum of a and b = 5   Multiply a to b = 6\n"
     ]
    }
   ],
   "source": [
    "# Multiply and add numbers\n",
    "a=2\n",
    "b=3\n",
    "sum=a+b\n",
    "multiply=a*b\n",
    "print(\"Sum of a and b =\",sum, \"  Multiply a to b =\", multiply)\n"
   ]
  },
  {
   "cell_type": "code",
   "execution_count": 9,
   "id": "434e33a2-6815-4be2-af78-428be62a3366",
   "metadata": {},
   "outputs": [
    {
     "name": "stdin",
     "output_type": "stream",
     "text": [
      "input numbers of minutes  180\n"
     ]
    },
    {
     "name": "stdout",
     "output_type": "stream",
     "text": [
      "numbers of hour 3.0\n"
     ]
    }
   ],
   "source": [
    "minute=int(input(\"input numbers of minutes \"))\n",
    "hours=minute/60\n",
    "print(\"numbers of hours\",hours)"
   ]
  },
  {
   "cell_type": "markdown",
   "id": "a078936f-d0fb-417b-9501-ac27e7cfc444",
   "metadata": {},
   "source": [
    "### Objectives\n",
    "\n",
    "The following are the objectives of this project:\n",
    "\n",
    "- Develop an understanding of data science concepts and techniques\n",
    "- Gain hands-on experience with various data science tools and libraries\n",
    "- Learn how to manipulate and analyze data using Python and Jupyter notebooks\n",
    "- Create visualizations and communicate insights using data storytelling techniques\n",
    "- Apply statistical methods and machine learning algorithms to real-world problems\n",
    "- Use data to inform business decisions and drive strategic outcomes\n"
   ]
  },
  {
   "cell_type": "markdown",
   "id": "85c3e006-84e4-4357-818c-197cddc6cda6",
   "metadata": {},
   "source": [
    "**Majid Mirzaei"
   ]
  },
  {
   "cell_type": "code",
   "execution_count": null,
   "id": "2071243b-cb49-4b18-a766-f549a54fa587",
   "metadata": {},
   "outputs": [],
   "source": []
  }
 ],
 "metadata": {
  "kernelspec": {
   "display_name": "Python 3 (ipykernel)",
   "language": "python",
   "name": "python3"
  },
  "language_info": {
   "codemirror_mode": {
    "name": "ipython",
    "version": 3
   },
   "file_extension": ".py",
   "mimetype": "text/x-python",
   "name": "python",
   "nbconvert_exporter": "python",
   "pygments_lexer": "ipython3",
   "version": "3.9.13"
  }
 },
 "nbformat": 4,
 "nbformat_minor": 5
}
